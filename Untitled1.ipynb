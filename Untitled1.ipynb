{
 "cells": [
  {
   "cell_type": "code",
   "execution_count": 4,
   "metadata": {},
   "outputs": [],
   "source": [
    "import keras\n",
    "import numpy as np\n",
    "import pandas as pd\n",
    "import cv2 \n",
    "from keras.models import Sequential \n",
    "from keras.layers import Conv2D,MaxPooling2D, Dense,Flatten\n",
    "from keras.datasets import mnist \n",
    "import matplotlib.pyplot as plt\n",
    "from keras.utils import np_utils\n",
    "from keras.optimizers import SGD"
   ]
  },
  {
   "cell_type": "code",
   "execution_count": null,
   "metadata": {},
   "outputs": [],
   "source": []
  },
  {
   "cell_type": "code",
   "execution_count": 5,
   "metadata": {},
   "outputs": [],
   "source": [
    "train = pd.read_csv('sign_mnist_train.csv')\n",
    "test = pd.read_csv('sign_mnist_test.csv')"
   ]
  },
  {
   "cell_type": "code",
   "execution_count": 6,
   "metadata": {},
   "outputs": [
    {
     "name": "stdout",
     "output_type": "stream",
     "text": [
      "<class 'pandas.core.frame.DataFrame'>\n",
      "RangeIndex: 27455 entries, 0 to 27454\n",
      "Columns: 785 entries, label to pixel784\n",
      "dtypes: int64(785)\n",
      "memory usage: 164.4 MB\n"
     ]
    },
    {
     "data": {
      "text/plain": [
       "None"
      ]
     },
     "metadata": {},
     "output_type": "display_data"
    },
    {
     "name": "stdout",
     "output_type": "stream",
     "text": [
      "<class 'pandas.core.frame.DataFrame'>\n",
      "RangeIndex: 7172 entries, 0 to 7171\n",
      "Columns: 785 entries, label to pixel784\n",
      "dtypes: int64(785)\n",
      "memory usage: 43.0 MB\n"
     ]
    },
    {
     "data": {
      "text/plain": [
       "None"
      ]
     },
     "metadata": {},
     "output_type": "display_data"
    },
    {
     "data": {
      "text/html": [
       "<div>\n",
       "<style scoped>\n",
       "    .dataframe tbody tr th:only-of-type {\n",
       "        vertical-align: middle;\n",
       "    }\n",
       "\n",
       "    .dataframe tbody tr th {\n",
       "        vertical-align: top;\n",
       "    }\n",
       "\n",
       "    .dataframe thead th {\n",
       "        text-align: right;\n",
       "    }\n",
       "</style>\n",
       "<table border=\"1\" class=\"dataframe\">\n",
       "  <thead>\n",
       "    <tr style=\"text-align: right;\">\n",
       "      <th></th>\n",
       "      <th>label</th>\n",
       "      <th>pixel1</th>\n",
       "      <th>pixel2</th>\n",
       "      <th>pixel3</th>\n",
       "      <th>pixel4</th>\n",
       "      <th>pixel5</th>\n",
       "      <th>pixel6</th>\n",
       "      <th>pixel7</th>\n",
       "      <th>pixel8</th>\n",
       "      <th>pixel9</th>\n",
       "      <th>...</th>\n",
       "      <th>pixel775</th>\n",
       "      <th>pixel776</th>\n",
       "      <th>pixel777</th>\n",
       "      <th>pixel778</th>\n",
       "      <th>pixel779</th>\n",
       "      <th>pixel780</th>\n",
       "      <th>pixel781</th>\n",
       "      <th>pixel782</th>\n",
       "      <th>pixel783</th>\n",
       "      <th>pixel784</th>\n",
       "    </tr>\n",
       "  </thead>\n",
       "  <tbody>\n",
       "    <tr>\n",
       "      <th>0</th>\n",
       "      <td>3</td>\n",
       "      <td>107</td>\n",
       "      <td>118</td>\n",
       "      <td>127</td>\n",
       "      <td>134</td>\n",
       "      <td>139</td>\n",
       "      <td>143</td>\n",
       "      <td>146</td>\n",
       "      <td>150</td>\n",
       "      <td>153</td>\n",
       "      <td>...</td>\n",
       "      <td>207</td>\n",
       "      <td>207</td>\n",
       "      <td>207</td>\n",
       "      <td>207</td>\n",
       "      <td>206</td>\n",
       "      <td>206</td>\n",
       "      <td>206</td>\n",
       "      <td>204</td>\n",
       "      <td>203</td>\n",
       "      <td>202</td>\n",
       "    </tr>\n",
       "    <tr>\n",
       "      <th>1</th>\n",
       "      <td>6</td>\n",
       "      <td>155</td>\n",
       "      <td>157</td>\n",
       "      <td>156</td>\n",
       "      <td>156</td>\n",
       "      <td>156</td>\n",
       "      <td>157</td>\n",
       "      <td>156</td>\n",
       "      <td>158</td>\n",
       "      <td>158</td>\n",
       "      <td>...</td>\n",
       "      <td>69</td>\n",
       "      <td>149</td>\n",
       "      <td>128</td>\n",
       "      <td>87</td>\n",
       "      <td>94</td>\n",
       "      <td>163</td>\n",
       "      <td>175</td>\n",
       "      <td>103</td>\n",
       "      <td>135</td>\n",
       "      <td>149</td>\n",
       "    </tr>\n",
       "  </tbody>\n",
       "</table>\n",
       "<p>2 rows × 785 columns</p>\n",
       "</div>"
      ],
      "text/plain": [
       "   label  pixel1  pixel2  pixel3  pixel4  pixel5  pixel6  pixel7  pixel8  \\\n",
       "0      3     107     118     127     134     139     143     146     150   \n",
       "1      6     155     157     156     156     156     157     156     158   \n",
       "\n",
       "   pixel9  ...  pixel775  pixel776  pixel777  pixel778  pixel779  pixel780  \\\n",
       "0     153  ...       207       207       207       207       206       206   \n",
       "1     158  ...        69       149       128        87        94       163   \n",
       "\n",
       "   pixel781  pixel782  pixel783  pixel784  \n",
       "0       206       204       203       202  \n",
       "1       175       103       135       149  \n",
       "\n",
       "[2 rows x 785 columns]"
      ]
     },
     "metadata": {},
     "output_type": "display_data"
    },
    {
     "data": {
      "text/html": [
       "<div>\n",
       "<style scoped>\n",
       "    .dataframe tbody tr th:only-of-type {\n",
       "        vertical-align: middle;\n",
       "    }\n",
       "\n",
       "    .dataframe tbody tr th {\n",
       "        vertical-align: top;\n",
       "    }\n",
       "\n",
       "    .dataframe thead th {\n",
       "        text-align: right;\n",
       "    }\n",
       "</style>\n",
       "<table border=\"1\" class=\"dataframe\">\n",
       "  <thead>\n",
       "    <tr style=\"text-align: right;\">\n",
       "      <th></th>\n",
       "      <th>label</th>\n",
       "      <th>pixel1</th>\n",
       "      <th>pixel2</th>\n",
       "      <th>pixel3</th>\n",
       "      <th>pixel4</th>\n",
       "      <th>pixel5</th>\n",
       "      <th>pixel6</th>\n",
       "      <th>pixel7</th>\n",
       "      <th>pixel8</th>\n",
       "      <th>pixel9</th>\n",
       "      <th>...</th>\n",
       "      <th>pixel775</th>\n",
       "      <th>pixel776</th>\n",
       "      <th>pixel777</th>\n",
       "      <th>pixel778</th>\n",
       "      <th>pixel779</th>\n",
       "      <th>pixel780</th>\n",
       "      <th>pixel781</th>\n",
       "      <th>pixel782</th>\n",
       "      <th>pixel783</th>\n",
       "      <th>pixel784</th>\n",
       "    </tr>\n",
       "  </thead>\n",
       "  <tbody>\n",
       "    <tr>\n",
       "      <th>0</th>\n",
       "      <td>6</td>\n",
       "      <td>149</td>\n",
       "      <td>149</td>\n",
       "      <td>150</td>\n",
       "      <td>150</td>\n",
       "      <td>150</td>\n",
       "      <td>151</td>\n",
       "      <td>151</td>\n",
       "      <td>150</td>\n",
       "      <td>151</td>\n",
       "      <td>...</td>\n",
       "      <td>138</td>\n",
       "      <td>148</td>\n",
       "      <td>127</td>\n",
       "      <td>89</td>\n",
       "      <td>82</td>\n",
       "      <td>96</td>\n",
       "      <td>106</td>\n",
       "      <td>112</td>\n",
       "      <td>120</td>\n",
       "      <td>107</td>\n",
       "    </tr>\n",
       "    <tr>\n",
       "      <th>1</th>\n",
       "      <td>5</td>\n",
       "      <td>126</td>\n",
       "      <td>128</td>\n",
       "      <td>131</td>\n",
       "      <td>132</td>\n",
       "      <td>133</td>\n",
       "      <td>134</td>\n",
       "      <td>135</td>\n",
       "      <td>135</td>\n",
       "      <td>136</td>\n",
       "      <td>...</td>\n",
       "      <td>47</td>\n",
       "      <td>104</td>\n",
       "      <td>194</td>\n",
       "      <td>183</td>\n",
       "      <td>186</td>\n",
       "      <td>184</td>\n",
       "      <td>184</td>\n",
       "      <td>184</td>\n",
       "      <td>182</td>\n",
       "      <td>180</td>\n",
       "    </tr>\n",
       "  </tbody>\n",
       "</table>\n",
       "<p>2 rows × 785 columns</p>\n",
       "</div>"
      ],
      "text/plain": [
       "   label  pixel1  pixel2  pixel3  pixel4  pixel5  pixel6  pixel7  pixel8  \\\n",
       "0      6     149     149     150     150     150     151     151     150   \n",
       "1      5     126     128     131     132     133     134     135     135   \n",
       "\n",
       "   pixel9  ...  pixel775  pixel776  pixel777  pixel778  pixel779  pixel780  \\\n",
       "0     151  ...       138       148       127        89        82        96   \n",
       "1     136  ...        47       104       194       183       186       184   \n",
       "\n",
       "   pixel781  pixel782  pixel783  pixel784  \n",
       "0       106       112       120       107  \n",
       "1       184       184       182       180  \n",
       "\n",
       "[2 rows x 785 columns]"
      ]
     },
     "metadata": {},
     "output_type": "display_data"
    }
   ],
   "source": [
    "display(train.info())\n",
    "\n",
    "display(test.info())\n",
    "\n",
    "display(train.head(n = 2))\n",
    "display(test.head(n = 2))"
   ]
  },
  {
   "cell_type": "code",
   "execution_count": 7,
   "metadata": {},
   "outputs": [],
   "source": [
    "train_Y = train['label']\n",
    "test_Y = test['label']\n",
    "train_X = train.drop(['label'],axis = 1)\n",
    "test_X = test.drop(['label'],axis = 1)"
   ]
  },
  {
   "cell_type": "code",
   "execution_count": 8,
   "metadata": {},
   "outputs": [],
   "source": [
    "train_X = train_X.astype('float32') / 255\n",
    "test_X = test_X.astype('float32')/255"
   ]
  },
  {
   "cell_type": "code",
   "execution_count": 9,
   "metadata": {},
   "outputs": [],
   "source": [
    "\n",
    "#display(train_Y)"
   ]
  },
  {
   "cell_type": "code",
   "execution_count": 10,
   "metadata": {},
   "outputs": [],
   "source": [
    "\n",
    "train_X = train_X.values.reshape(27455,784)\n",
    "test_X = test_X.values.reshape(7172,784)\n",
    "train_Y = keras.utils.to_categorical(train_Y,26)\n",
    "test_Y = keras.utils.to_categorical(test_Y,26)"
   ]
  },
  {
   "cell_type": "code",
   "execution_count": 11,
   "metadata": {},
   "outputs": [],
   "source": [
    "model = Sequential()\n",
    "model.add(Dense(units=128,activation=\"relu\",input_shape=(784,)))\n",
    "model.add(Dense(units=128,activation=\"relu\"))\n",
    "model.add(Dense(units=128,activation=\"relu\"))\n",
    "model.add(Dense(units=26,activation=\"softmax\"))"
   ]
  },
  {
   "cell_type": "code",
   "execution_count": 12,
   "metadata": {},
   "outputs": [
    {
     "name": "stdout",
     "output_type": "stream",
     "text": [
      "Epoch 1/10\n",
      "27455/27455 [==============================] - 2s 71us/step - loss: 3.1930 - accuracy: 0.0794\n",
      "Epoch 2/10\n",
      "27455/27455 [==============================] - 2s 71us/step - loss: 3.0779 - accuracy: 0.1675\n",
      "Epoch 3/10\n",
      "27455/27455 [==============================] - 2s 70us/step - loss: 2.9772 - accuracy: 0.2200\n",
      "Epoch 4/10\n",
      "27455/27455 [==============================] - 2s 78us/step - loss: 2.8614 - accuracy: 0.2577\n",
      "Epoch 5/10\n",
      "27455/27455 [==============================] - ETA: 0s - loss: 2.7203 - accuracy: 0.28 - 2s 67us/step - loss: 2.7193 - accuracy: 0.2890\n",
      "Epoch 6/10\n",
      "27455/27455 [==============================] - 2s 69us/step - loss: 2.5560 - accuracy: 0.3185\n",
      "Epoch 7/10\n",
      "27455/27455 [==============================] - 2s 73us/step - loss: 2.3873 - accuracy: 0.3508\n",
      "Epoch 8/10\n",
      "27455/27455 [==============================] - 2s 70us/step - loss: 2.2262 - accuracy: 0.3804\n",
      "Epoch 9/10\n",
      "27455/27455 [==============================] - 2s 71us/step - loss: 2.0843 - accuracy: 0.4137\n",
      "Epoch 10/10\n",
      "27455/27455 [==============================] - 2s 70us/step - loss: 1.9620 - accuracy: 0.4465\n"
     ]
    },
    {
     "data": {
      "text/plain": [
       "<keras.callbacks.callbacks.History at 0x269becc52e8>"
      ]
     },
     "execution_count": 12,
     "metadata": {},
     "output_type": "execute_result"
    }
   ],
   "source": [
    "model.compile(optimizer=SGD(0.001),loss=\"categorical_crossentropy\",metrics=[\"accuracy\"])\n",
    "model.fit(train_X,train_Y,batch_size=32,epochs=10,verbose=1)"
   ]
  },
  {
   "cell_type": "code",
   "execution_count": 13,
   "metadata": {},
   "outputs": [
    {
     "name": "stdout",
     "output_type": "stream",
     "text": [
      "7172/7172 [==============================] - 0s 37us/step\n",
      "Accuracy:  0.3775794804096222\n"
     ]
    }
   ],
   "source": [
    "accuracy = model.evaluate(x=test_X,y=test_Y,batch_size=32)\n",
    "print(\"Accuracy: \",accuracy[1])"
   ]
  },
  {
   "cell_type": "code",
   "execution_count": 29,
   "metadata": {},
   "outputs": [
    {
     "name": "stdout",
     "output_type": "stream",
     "text": [
      "Model: \"sequential_1\"\n",
      "_________________________________________________________________\n",
      "Layer (type)                 Output Shape              Param #   \n",
      "=================================================================\n",
      "dense_1 (Dense)              (None, 128)               100480    \n",
      "_________________________________________________________________\n",
      "dense_2 (Dense)              (None, 128)               16512     \n",
      "_________________________________________________________________\n",
      "dense_3 (Dense)              (None, 128)               16512     \n",
      "_________________________________________________________________\n",
      "dense_4 (Dense)              (None, 26)                3354      \n",
      "=================================================================\n",
      "Total params: 136,858\n",
      "Trainable params: 136,858\n",
      "Non-trainable params: 0\n",
      "_________________________________________________________________\n"
     ]
    }
   ],
   "source": [
    "model.summary()\n",
    "model.save('CNNmodel.h5')"
   ]
  },
  {
   "cell_type": "code",
   "execution_count": 36,
   "metadata": {},
   "outputs": [
    {
     "name": "stdout",
     "output_type": "stream",
     "text": [
      "Class:  14\n"
     ]
    }
   ],
   "source": [
    "img = test_X[7]\n",
    "test_img = img.reshape((1,784))\n",
    "img_class = model.predict_classes(test_img)\n",
    "prediction = img_class[0]\n",
    "classname = img_class[0]\n",
    "print(\"Class: \",classname)"
   ]
  },
  {
   "cell_type": "code",
   "execution_count": 37,
   "metadata": {},
   "outputs": [
    {
     "data": {
      "image/png": "[encoded data removed]",
      "text/plain": [
       "<Figure size 432x288 with 1 Axes>"
      ]
     },
     "metadata": {
      "needs_background": "light"
     },
     "output_type": "display_data"
    }
   ],
   "source": [
    "img = img.reshape((28,28))\n",
    "plt.imshow(img)\n",
    "plt.title(classname)\n",
    "plt.show()"
   ]
  },
  {
   "cell_type": "code",
   "execution_count": 38,
   "metadata": {},
   "outputs": [],
   "source": [
    "while True:  \n",
    "# capturing the image from webcam \n",
    "    cam_capture = cv2.VideoCapture(0)\n",
    "    _, image_frame = cam_capture.read()\n",
    "  # to crop required part\n",
    "    im2 = crop_image(image_frame, 300,300,300,300)\n",
    "# convert to grayscale \n",
    "     \n",
    "    image_grayscale = cv2.cvtColor(im2, cv2.COLOR_BGR2GRAY)\n",
    "# blurring the image \n",
    "  \n",
    "    image_grayscale_blurred =cv2.GaussianBlur(image_grayscale, (15,15), 0)\n",
    "# resize the image to 28x28\n",
    "    im3 = cv2.resize(image_grayscale_blurred, (28,28), interpolation = cv2.INTER_AREA)\n",
    "# expand the dimensions from 28x28 to 1x28x28x1\n",
    "    im4 = np.resize(im3, (28, 28, 1))\n",
    "    im5 = np.expand_dims(im4, axis=0)\n",
    "    \n",
    "    cv2.imshow(\"Image2\",im2)\n",
    "    cv2.imshow(\"Image4\",im4)\n",
    "    cv2.imshow(\"Image3\",im3)\n",
    "    if cv2.waitKey(25) & 0xFF == ord('q'):\n",
    "            cv2.destroyAllWindows()\n",
    "            break\n",
    "    \n",
    "\n",
    "cam_capture.release()\n",
    "cv2.destroyAllWindows()\n"
   ]
  },
  {
   "cell_type": "code",
   "execution_count": 1,
   "metadata": {},
   "outputs": [
    {
     "name": "stderr",
     "output_type": "stream",
     "text": [
      "Using TensorFlow backend.\n"
     ]
    }
   ],
   "source": [
    "import cv2\n",
    "import numpy as np\n",
    "from keras.models import load_model\n",
    "from skimage.transform import resize, pyramid_reduce\n",
    "\n",
    "\n",
    "model = load_model('CNNmodel.h5')\n"
   ]
  },
  {
   "cell_type": "code",
   "execution_count": 27,
   "metadata": {},
   "outputs": [
    {
     "name": "stdout",
     "output_type": "stream",
     "text": [
      "6 0.9923934\n",
      "6 1.0\n",
      "6 1.0\n",
      "6 1.0\n",
      "6 1.0\n",
      "6 1.0\n",
      "6 1.0\n",
      "6 1.0\n",
      "6 1.0\n",
      "6 1.0\n",
      "6 1.0\n",
      "6 1.0\n",
      "6 1.0\n",
      "6 1.0\n",
      "6 1.0\n",
      "6 1.0\n",
      "6 1.0\n",
      "6 1.0\n",
      "15 1.0\n",
      "15 0.9999094\n",
      "15 1.0\n",
      "15 1.0\n",
      "15 0.9998697\n",
      "15 0.9999\n"
     ]
    }
   ],
   "source": [
    "def get_square(image, square_size):\n",
    "    \n",
    "    height, width = image.shape    \n",
    "    if(height > width):\n",
    "        differ = height\n",
    "    else:\n",
    "        differ = width\n",
    "    differ += 4\n",
    "\n",
    "\n",
    "    mask = np.zeros((differ, differ), dtype = \"uint8\")\n",
    "\n",
    "    x_pos = int((differ - width) / 2)\n",
    "    y_pos = int((differ - height) / 2)\n",
    "\n",
    "   \n",
    "    mask[y_pos: y_pos + height, x_pos: x_pos + width] = image[0: height, 0: width]\n",
    "\n",
    " \n",
    "    if differ / square_size > 1:\n",
    "        mask = pyramid_reduce(mask, differ / square_size)\n",
    "    else:\n",
    "        mask = cv2.resize(mask, (square_size, square_size), interpolation = cv2.INTER_AREA)\n",
    "    return mask\n",
    "\n",
    "\n",
    "def keras_predict(model, image):\n",
    "    data = np.asarray( image, dtype=\"int32\" )\n",
    "    \n",
    "    pred_probab = model.predict(data)[0]\n",
    "    pred_class = list(pred_probab).index(max(pred_probab))\n",
    "    return max(pred_probab), pred_class\n",
    "\n",
    "def keras_process_image(img):\n",
    "    \n",
    "    image_x = 28\n",
    "    image_y = 28\n",
    "    #img = cv2.resize(img, (28,28), interpolation = cv2.INTER_AREA)\n",
    "    img = get_square(img, 28)\n",
    "    img = np.reshape(img, (image_x, image_y))\n",
    "    \n",
    "    \n",
    "    return img\n",
    " \n",
    "\n",
    "def crop_image(image, x, y, width, height):\n",
    "    return image[y:y + height, x:x + width]\n",
    "\n",
    "while True:  \n",
    "    cam_capture = cv2.VideoCapture(0)\n",
    "    _, image_frame = cam_capture.read()  \n",
    "    # Select ROI\n",
    "    im2 = crop_image(image_frame, 300,300,300,300)\n",
    "    image_grayscale = cv2.cvtColor(im2, cv2.COLOR_BGR2GRAY)\n",
    "    image_grayscale_blurred = cv2.GaussianBlur(image_grayscale, (15,15), 0)\n",
    "\n",
    "\n",
    "    #resized_img = image_resize(image_grayscale_blurred, width = 28, height = 28, inter = cv2.INTER_AREA) \n",
    "    #resized_img = keras_process_image(image_grayscale_blurred)\n",
    "    resized_img = cv2.resize(image_grayscale_blurred,(28,28))\n",
    "    #ar = np.array(resized_img)\n",
    "    ar = resized_img.reshape(1,784)\n",
    "\n",
    "    pred_probab, pred_class = keras_predict(model, ar )\n",
    "    print(pred_class, pred_probab)\n",
    "     \n",
    "    \n",
    " \n",
    "    # Display cropped image\n",
    "\n",
    "    cv2.imshow(\"Image2\",im2)\n",
    "    cv2.imshow(\"Image4\",resized_img)\n",
    "    cv2.imshow(\"Image3\",image_grayscale_blurred)\n",
    "\n",
    "    if cv2.waitKey(25) & 0xFF == ord('q'):\n",
    "            cv2.destroyAllWindows()\n",
    "            break\n",
    "    \n",
    "\n",
    "cam_capture.release()\n",
    "cv2.destroyAllWindows()\n"
   ]
  },
  {
   "cell_type": "code",
   "execution_count": null,
   "metadata": {},
   "outputs": [],
   "source": []
  },
  {
   "cell_type": "code",
   "execution_count": null,
   "metadata": {},
   "outputs": [],
   "source": []
  }
 ],
 "metadata": {
  "kernelspec": {
   "display_name": "Python 3",
   "language": "python",
   "name": "python3"
  },
  "language_info": {
   "codemirror_mode": {
    "name": "ipython",
    "version": 3
   },
   "file_extension": ".py",
   "mimetype": "text/x-python",
   "name": "python",
   "nbconvert_exporter": "python",
   "pygments_lexer": "ipython3",
   "version": "3.7.3"
  }
 },
 "nbformat": 4,
 "nbformat_minor": 2
}
