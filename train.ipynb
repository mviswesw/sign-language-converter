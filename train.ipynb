{
 "cells": [
  {
   "cell_type": "code",
   "execution_count": 2,
   "metadata": {},
   "outputs": [],
   "source": [
    "#-------------------source code begin-----------------------------------------\n",
    "\n",
    "from keras.models import Sequential\n",
    "from keras.layers import Convolution2D\n",
    "from keras.layers import MaxPooling2D\n",
    "from keras.layers import Flatten\n",
    "from keras.layers import Dense\n",
    "\n",
    "model_classifier = Sequential()\n",
    "model_classifier.add(Convolution2D(32, (3, 3), input_shape=(64, 64, 1), activation='relu'))\n",
    "model_classifier.add(MaxPooling2D(pool_size=(2, 2)))\n",
    "\n",
    "model_classifier.add(Convolution2D(32, (3, 3), activation='relu'))\n",
    "model_classifier.add(MaxPooling2D(pool_size=(2, 2)))\n",
    "\n",
    "model_classifier.add(Flatten())\n",
    "\n",
    "\n",
    "model_classifier.add(Dense(units=128, activation='relu'))\n",
    "model_classifier.add(Dense(units=12, activation='softmax')) # softmax for more than 2\n",
    "\n",
    "# Compile CNN\n",
    "model_classifier.compile(optimizer='adam', loss='categorical_crossentropy', metrics=['accuracy']) # categorical_crossentropy for more than 2\n"
   ]
  },
  {
   "cell_type": "code",
   "execution_count": 3,
   "metadata": {},
   "outputs": [
    {
     "name": "stdout",
     "output_type": "stream",
     "text": [
      "Found 600 images belonging to 12 classes.\n",
      "Found 50 images belonging to 12 classes.\n"
     ]
    }
   ],
   "source": [
    "from keras.preprocessing.image import ImageDataGenerator\n",
    "\n",
    "train_datagen = ImageDataGenerator(\n",
    "        rescale=1./255,\n",
    "        shear_range=0.2,\n",
    "        zoom_range=0.2,\n",
    "        horizontal_flip=True)\n",
    "\n",
    "test_datagen = ImageDataGenerator(rescale=1./255)\n",
    "\n",
    "training_set = train_datagen.flow_from_directory('data/train',\n",
    "                                                 target_size=(64, 64),\n",
    "                                                 batch_size=5,\n",
    "                                                 color_mode='grayscale',\n",
    "                                                 class_mode='categorical')\n",
    "\n",
    "test_set = test_datagen.flow_from_directory('data/test',\n",
    "                                            target_size=(64, 64),\n",
    "                                            batch_size=5,\n",
    "                                            color_mode='grayscale',\n",
    "                                            class_mode='categorical') \n",
    "#-------------------source code end-----------------------------------------\n"
   ]
  },
  {
   "cell_type": "code",
   "execution_count": 37,
   "metadata": {},
   "outputs": [
    {
     "name": "stdout",
     "output_type": "stream",
     "text": [
      "Epoch 1/10\n",
      "600/600 [==============================] - 28s 46ms/step - loss: 0.2917 - accuracy: 0.9083 - val_loss: 0.2355 - val_accuracy: 0.7672\n",
      "Epoch 2/10\n",
      "600/600 [==============================] - 31s 51ms/step - loss: 0.0232 - accuracy: 0.9950 - val_loss: 0.4026 - val_accuracy: 0.7522\n",
      "Epoch 3/10\n",
      "600/600 [==============================] - 30s 50ms/step - loss: 0.0090 - accuracy: 0.9980 - val_loss: 0.5104 - val_accuracy: 0.8217\n",
      "Epoch 4/10\n",
      "600/600 [==============================] - 29s 48ms/step - loss: 0.0077 - accuracy: 0.9987 - val_loss: 2.1026 - val_accuracy: 0.8348\n",
      "Epoch 5/10\n",
      "600/600 [==============================] - 29s 49ms/step - loss: 0.0099 - accuracy: 0.9970 - val_loss: 6.9532e-05 - val_accuracy: 0.7696\n",
      "Epoch 6/10\n",
      "600/600 [==============================] - 37s 61ms/step - loss: 8.4022e-05 - accuracy: 1.0000 - val_loss: 0.0158 - val_accuracy: 0.7716\n",
      "Epoch 7/10\n",
      "600/600 [==============================] - 28s 46ms/step - loss: 0.0144 - accuracy: 0.9980 - val_loss: 0.4123 - val_accuracy: 0.8478\n",
      "Epoch 8/10\n",
      "600/600 [==============================] - 27s 46ms/step - loss: 0.0173 - accuracy: 0.9950 - val_loss: 0.7823 - val_accuracy: 0.7913\n",
      "Epoch 9/10\n",
      "600/600 [==============================] - 26s 44ms/step - loss: 0.0088 - accuracy: 0.9977 - val_loss: 2.5003 - val_accuracy: 0.7913\n",
      "Epoch 10/10\n",
      "600/600 [==============================] - 26s 44ms/step - loss: 6.9865e-05 - accuracy: 1.0000 - val_loss: 2.5431e-06 - val_accuracy: 0.7913\n"
     ]
    }
   ],
   "source": [
    "#-------------modified source code-----------------\n",
    "model_classifier.fit_generator(\n",
    "        training_set,\n",
    "        steps_per_epoch=600, # Number of images in training set, find it in the above cell output\n",
    "        epochs=10,\n",
    "        validation_data=test_set,\n",
    "        validation_steps=50)# Number of images in test set, find it itn the above cell output\n",
    "\n",
    "\n",
    "# Saving the model\n",
    "model_json = model_classifier.to_json()\n",
    "with open(\"saved_model.json\", \"w\") as json_file:\n",
    "    json_file.write(model_json)\n",
    "    \n",
    "model_classifier.save_weights('saved_model.h5')"
   ]
  },
  {
   "cell_type": "markdown",
   "metadata": {},
   "source": [
    "Sometimes, if we add uneven data in the dataset and not give the right number of images, there will be error while running the epoch.\n",
    "Make sure to give right number. \n",
    "\n",
    "Note: Sometives if we mistakenly add more data and edit the dataset later on by adding additional images, the numbers will not reflect the same in training time from ImageDataGenerator. This is because of timing and use of multiple folders.\n",
    "\n",
    "In such case, we have to make sure to not disturb the testing and training dataset."
   ]
  },
  {
   "cell_type": "code",
   "execution_count": null,
   "metadata": {},
   "outputs": [],
   "source": []
  }
 ],
 "metadata": {
  "kernelspec": {
   "display_name": "Python 3",
   "language": "python",
   "name": "python3"
  },
  "language_info": {
   "codemirror_mode": {
    "name": "ipython",
    "version": 3
   },
   "file_extension": ".py",
   "mimetype": "text/x-python",
   "name": "python",
   "nbconvert_exporter": "python",
   "pygments_lexer": "ipython3",
   "version": "3.7.3"
  }
 },
 "nbformat": 4,
 "nbformat_minor": 2
}
